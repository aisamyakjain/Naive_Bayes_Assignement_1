{
 "cells": [
  {
   "cell_type": "markdown",
   "id": "06e9d4b8-5bd2-4f89-8fc5-9b581ddcae0e",
   "metadata": {},
   "source": [
    "Q1. What is Bayes' theorem\n",
    "\n",
    "Answer: Bayes' theorem is a mathematical formula that calculates the probability of an event based on prior knowledge and new evidence."
   ]
  },
  {
   "cell_type": "markdown",
   "id": "1d1ac54b-a2ff-4005-b3c5-31ad325cddbd",
   "metadata": {},
   "source": [
    "Q2. What is the formula for Bayes' theorem?\n",
    "\n",
    "Answer: The formula for Bayes' theorem is:\n",
    "\n",
    "P(A|B) = (P(B|A) * P(A)) / P(B)\n",
    "\n",
    "where:\n",
    "P(A|B) is the probability of event A occurring given event B has occurred,\n",
    "P(B|A) is the probability of event B occurring given event A has occurred,\n",
    "P(A) is the probability of event A occurring, and\n",
    "P(B) is the probability of event B occurring."
   ]
  },
  {
   "cell_type": "markdown",
   "id": "6e40efde-286e-41ee-b294-34d9fbf4d453",
   "metadata": {},
   "source": [
    "Q3. How is Bayes' theorem used in practice in 50 words\n",
    "\n",
    "Answer: Bayes' theorem is used in practice to update probabilities based on new information. It is applied in various fields like statistics, machine learning, and medical diagnosis. It allows for incorporating prior knowledge and adjusting beliefs as evidence is obtained, improving decision-making and inference processes."
   ]
  },
  {
   "cell_type": "markdown",
   "id": "598cd57b-4d4b-4fa2-b50e-e2a751e79fd8",
   "metadata": {},
   "source": [
    "Q4. What is the relationship between Bayes' theorem and conditional probability?\n",
    "\n",
    "Answer: Bayes' theorem provides a way to calculate conditional probabilities. It relates the conditional probability of an event A given event B to the conditional probability of event B given event A, incorporating prior probabilities of events A and B. Bayes' theorem offers a formal framework for updating beliefs based on new evidence."
   ]
  },
  {
   "cell_type": "markdown",
   "id": "e5324160-88d0-41ee-8c98-21b683d6c461",
   "metadata": {},
   "source": [
    "Q5. How do you choose which type of Naive Bayes classifier to use for any given problem \n",
    "\n",
    "Answer: The choice of Naive Bayes classifier depends on the nature of the problem and the assumptions made. Common types include Gaussian, Multinomial, and Bernoulli Naive Bayes, each suitable for specific data characteristics such as continuous variables, discrete counts, or binary features, respectively."
   ]
  },
  {
   "cell_type": "code",
   "execution_count": null,
   "id": "02ea443b-62a4-473e-96cf-329a498359a6",
   "metadata": {},
   "outputs": [],
   "source": []
  }
 ],
 "metadata": {
  "kernelspec": {
   "display_name": "Python 3 (ipykernel)",
   "language": "python",
   "name": "python3"
  },
  "language_info": {
   "codemirror_mode": {
    "name": "ipython",
    "version": 3
   },
   "file_extension": ".py",
   "mimetype": "text/x-python",
   "name": "python",
   "nbconvert_exporter": "python",
   "pygments_lexer": "ipython3",
   "version": "3.10.6"
  }
 },
 "nbformat": 4,
 "nbformat_minor": 5
}
